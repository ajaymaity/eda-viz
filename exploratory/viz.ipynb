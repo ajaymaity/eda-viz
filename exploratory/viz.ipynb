{
 "cells": [
  {
   "cell_type": "code",
   "execution_count": 55,
   "metadata": {},
   "outputs": [],
   "source": [
    "import matplotlib.pyplot as plt\n",
    "import numpy as np\n",
    "import pandas as pd\n",
    "import seaborn as sns"
   ]
  },
  {
   "cell_type": "code",
   "execution_count": 62,
   "metadata": {},
   "outputs": [],
   "source": [
    "sns.set(style='whitegrid', palette='muted', font_scale=1.5)\n",
    "FIG_SIZE = (14, 8)\n",
    "ACCEPTED_TYPES = [pd.Series, np.ndarray, list]"
   ]
  },
  {
   "cell_type": "code",
   "execution_count": 57,
   "metadata": {},
   "outputs": [
    {
     "data": {
      "text/html": [
       "<div>\n",
       "<style scoped>\n",
       "    .dataframe tbody tr th:only-of-type {\n",
       "        vertical-align: middle;\n",
       "    }\n",
       "\n",
       "    .dataframe tbody tr th {\n",
       "        vertical-align: top;\n",
       "    }\n",
       "\n",
       "    .dataframe thead th {\n",
       "        text-align: right;\n",
       "    }\n",
       "</style>\n",
       "<table border=\"1\" class=\"dataframe\">\n",
       "  <thead>\n",
       "    <tr style=\"text-align: right;\">\n",
       "      <th></th>\n",
       "      <th>col1</th>\n",
       "      <th>col2</th>\n",
       "    </tr>\n",
       "  </thead>\n",
       "  <tbody>\n",
       "    <tr>\n",
       "      <th>0</th>\n",
       "      <td>ajay</td>\n",
       "      <td>1</td>\n",
       "    </tr>\n",
       "    <tr>\n",
       "      <th>1</th>\n",
       "      <td>nikita</td>\n",
       "      <td>2</td>\n",
       "    </tr>\n",
       "    <tr>\n",
       "      <th>2</th>\n",
       "      <td>ajay</td>\n",
       "      <td>3</td>\n",
       "    </tr>\n",
       "    <tr>\n",
       "      <th>3</th>\n",
       "      <td>sonia</td>\n",
       "      <td>4</td>\n",
       "    </tr>\n",
       "    <tr>\n",
       "      <th>4</th>\n",
       "      <td>sumeet</td>\n",
       "      <td>5</td>\n",
       "    </tr>\n",
       "    <tr>\n",
       "      <th>5</th>\n",
       "      <td>nikita</td>\n",
       "      <td>6</td>\n",
       "    </tr>\n",
       "    <tr>\n",
       "      <th>6</th>\n",
       "      <td>ajay</td>\n",
       "      <td>7</td>\n",
       "    </tr>\n",
       "  </tbody>\n",
       "</table>\n",
       "</div>"
      ],
      "text/plain": [
       "     col1  col2\n",
       "0    ajay     1\n",
       "1  nikita     2\n",
       "2    ajay     3\n",
       "3   sonia     4\n",
       "4  sumeet     5\n",
       "5  nikita     6\n",
       "6    ajay     7"
      ]
     },
     "execution_count": 57,
     "metadata": {},
     "output_type": "execute_result"
    }
   ],
   "source": [
    "# Take a really simple dataframe example\n",
    "df = pd.DataFrame({\n",
    "    'col1': ['ajay', 'nikita', 'ajay', 'sonia', 'sumeet', 'nikita', 'ajay'],\n",
    "    'col2': [1, 2, 3, 4, 5, 6, 7]\n",
    "})\n",
    "df"
   ]
  },
  {
   "cell_type": "code",
   "execution_count": 58,
   "metadata": {},
   "outputs": [],
   "source": [
    "class TypeNotSupportedError(Exception):\n",
    "    pass\n"
   ]
  },
  {
   "cell_type": "code",
   "execution_count": 63,
   "metadata": {},
   "outputs": [],
   "source": [
    "def column_distribution(column, title='Class Distribution', xlabel='Class',\n",
    "                        ylabel='Count'):\n",
    "    \"\"\"\n",
    "    Displays distribution bar chart.\n",
    "\n",
    "    :param column: pandas Series, numpy ndarray or list\n",
    "    :param title: title of plot (str)\n",
    "    :param xlabel: label of x-axis (str)\n",
    "    :param ylabel: label of y-axis (str)\n",
    "    :return: None\n",
    "    :raise TypeNotSupportedError: if the column passed is one of pandas Series, numpy ndarray or list\n",
    "    \"\"\"\n",
    "    if type(column) not in ACCEPTED_TYPES:\n",
    "        raise TypeNotSupportedError('column of type {} is not supported by this method. \\\n",
    "                                    Make sure the type is one of {}'.format(type(column), \n",
    "                                                                            ', '.join([str(t) for t in ACCEPTED_TYPES])))\n",
    "\n",
    "    plt.subplots(figsize=FIG_SIZE)\n",
    "    count_classes = pd.value_counts(column, sort=True)\n",
    "    count_classes.plot(kind='bar', rot=0)\n",
    "    plt.title(title)\n",
    "    plt.xlabel(xlabel)\n",
    "    plt.ylabel(ylabel)\n",
    "    plt.show()\n",
    "    "
   ]
  },
  {
   "cell_type": "code",
   "execution_count": 73,
   "metadata": {},
   "outputs": [
    {
     "data": {
      "image/png": "[encoded data removed]",
      "text/plain": [
       "<Figure size 1008x576 with 1 Axes>"
      ]
     },
     "metadata": {},
     "output_type": "display_data"
    }
   ],
   "source": [
    "column_distribution(df['col1'])\n",
    "# column_distribution(df['col1'].values)\n",
    "# column_distribution(['ajay', 'nikita', 'ajay', 'sonia', 'sumeet', 'nikita', 'ajay'])\n",
    "# column_distribution(np.array(['ajay', 'nikita', 'ajay', 'sonia', 'sumeet', 'nikita', 'ajay']))"
   ]
  }
 ],
 "metadata": {
  "kernelspec": {
   "display_name": "Python 3",
   "language": "python",
   "name": "python3"
  },
  "language_info": {
   "codemirror_mode": {
    "name": "ipython",
    "version": 3
   },
   "file_extension": ".py",
   "mimetype": "text/x-python",
   "name": "python",
   "nbconvert_exporter": "python",
   "pygments_lexer": "ipython3",
   "version": "3.6.5"
  }
 },
 "nbformat": 4,
 "nbformat_minor": 2
}
